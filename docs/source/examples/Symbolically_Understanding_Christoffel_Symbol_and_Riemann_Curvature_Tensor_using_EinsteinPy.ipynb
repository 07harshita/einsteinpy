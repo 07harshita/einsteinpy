{
 "cells": [
  {
   "cell_type": "markdown",
   "metadata": {},
   "source": [
    "# Symbolically Understanding Christoffel Symbol and Riemann Curvature Tensor using EinsteinPy"
   ]
  },
  {
   "cell_type": "code",
   "execution_count": 1,
   "metadata": {},
   "outputs": [],
   "source": [
    "import sympy\n",
    "from einsteinpy.symbolic import MetricTensor, ChristoffelSymbols, RiemannCurvatureTensor\n",
    "\n",
    "sympy.init_printing()  # enables the best printing available in an environment"
   ]
  },
  {
   "cell_type": "markdown",
   "metadata": {},
   "source": [
    "### Defining the metric tensor for 3d spherical coordinates"
   ]
  },
  {
   "cell_type": "code",
   "execution_count": 2,
   "metadata": {},
   "outputs": [
    {
     "data": {
      "text/latex": [
       "$$\\left[\\begin{matrix}1 & 0 & 0\\\\0 & r^{2} & 0\\\\0 & 0 & r^{2} \\sin^{2}{\\left (\\theta \\right )}\\end{matrix}\\right]$$"
      ],
      "text/plain": [
       "⎡1  0       0     ⎤\n",
       "⎢                 ⎥\n",
       "⎢    2            ⎥\n",
       "⎢0  r       0     ⎥\n",
       "⎢                 ⎥\n",
       "⎢        2    2   ⎥\n",
       "⎣0  0   r ⋅sin (θ)⎦"
      ]
     },
     "execution_count": 2,
     "metadata": {},
     "output_type": "execute_result"
    }
   ],
   "source": [
    "syms = sympy.symbols('r theta phi')\n",
    "# define the metric for 3d spherical coordinates\n",
    "metric = [[0 for i in range(3)] for i in range(3)]\n",
    "metric[0][0] = 1\n",
    "metric[1][1] = syms[0]**2\n",
    "metric[2][2] = (syms[0]**2)*(sympy.sin(syms[1])**2)\n",
    "# creating metric object\n",
    "m_obj = MetricTensor(metric, syms)\n",
    "m_obj.tensor()"
   ]
  },
  {
   "cell_type": "markdown",
   "metadata": {},
   "source": [
    "### Calculating the christoffel symbols"
   ]
  },
  {
   "cell_type": "code",
   "execution_count": 3,
   "metadata": {},
   "outputs": [
    {
     "data": {
      "text/latex": [
       "$$\\left[\\begin{matrix}\\left[\\begin{matrix}0 & 0 & 0\\\\0 & - r & 0\\\\0 & 0 & - r \\sin^{2}{\\left (\\theta \\right )}\\end{matrix}\\right] & \\left[\\begin{matrix}0 & \\frac{1}{r} & 0\\\\\\frac{1}{r} & 0 & 0\\\\0 & 0 & - \\sin{\\left (\\theta \\right )} \\cos{\\left (\\theta \\right )}\\end{matrix}\\right] & \\left[\\begin{matrix}0 & 0 & \\frac{1}{r}\\\\0 & 0 & \\frac{\\cos{\\left (\\theta \\right )}}{\\sin{\\left (\\theta \\right )}}\\\\\\frac{1}{r} & \\frac{\\cos{\\left (\\theta \\right )}}{\\sin{\\left (\\theta \\right )}} & 0\\end{matrix}\\right]\\end{matrix}\\right]$$"
      ],
      "text/plain": [
       "⎡                                             ⎡             1   ⎤⎤\n",
       "⎢                     ⎡   1                ⎤  ⎢0    0       ─   ⎥⎥\n",
       "⎢⎡0  0       0     ⎤  ⎢0  ─        0       ⎥  ⎢             r   ⎥⎥\n",
       "⎢⎢                 ⎥  ⎢   r                ⎥  ⎢                 ⎥⎥\n",
       "⎢⎢0  -r      0     ⎥  ⎢                    ⎥  ⎢           cos(θ)⎥⎥\n",
       "⎢⎢                 ⎥  ⎢1                   ⎥  ⎢0    0     ──────⎥⎥\n",
       "⎢⎢             2   ⎥  ⎢─  0        0       ⎥  ⎢           sin(θ)⎥⎥\n",
       "⎢⎣0  0   -r⋅sin (θ)⎦  ⎢r                   ⎥  ⎢                 ⎥⎥\n",
       "⎢                     ⎢                    ⎥  ⎢1  cos(θ)        ⎥⎥\n",
       "⎢                     ⎣0  0  -sin(θ)⋅cos(θ)⎦  ⎢─  ──────    0   ⎥⎥\n",
       "⎣                                             ⎣r  sin(θ)        ⎦⎦"
      ]
     },
     "execution_count": 3,
     "metadata": {},
     "output_type": "execute_result"
    }
   ],
   "source": [
    "ch = ChristoffelSymbols.from_metric(m_obj)\n",
    "ch.tensor()"
   ]
  },
  {
   "cell_type": "code",
   "execution_count": 4,
   "metadata": {},
   "outputs": [
    {
     "data": {
      "image/png": "[encoded data removed]",
      "text/latex": [
       "$$\\frac{1}{r}$$"
      ],
      "text/plain": [
       "1\n",
       "─\n",
       "r"
      ]
     },
     "execution_count": 4,
     "metadata": {},
     "output_type": "execute_result"
    }
   ],
   "source": [
    "ch.tensor()[1,1,0]"
   ]
  },
  {
   "cell_type": "markdown",
   "metadata": {},
   "source": [
    "### Calculating the Riemann Curvature tensor"
   ]
  },
  {
   "cell_type": "code",
   "execution_count": 5,
   "metadata": {},
   "outputs": [
    {
     "data": {
      "text/latex": [
       "$$\\left[\\begin{matrix}\\left[\\begin{matrix}0 & 0 & 0\\\\0 & 0 & 0\\\\0 & 0 & 0\\end{matrix}\\right] & \\left[\\begin{matrix}0 & 0 & 0\\\\0 & 0 & 0\\\\0 & 0 & 0\\end{matrix}\\right] & \\left[\\begin{matrix}0 & 0 & 0\\\\0 & 0 & 0\\\\0 & 0 & 0\\end{matrix}\\right]\\\\\\left[\\begin{matrix}0 & 0 & 0\\\\0 & 0 & 0\\\\0 & 0 & 0\\end{matrix}\\right] & \\left[\\begin{matrix}0 & 0 & 0\\\\0 & 0 & 0\\\\0 & 0 & 0\\end{matrix}\\right] & \\left[\\begin{matrix}0 & 0 & 0\\\\0 & 0 & 0\\\\0 & 0 & 0\\end{matrix}\\right]\\\\\\left[\\begin{matrix}0 & 0 & 0\\\\0 & 0 & 0\\\\0 & 0 & 0\\end{matrix}\\right] & \\left[\\begin{matrix}0 & 0 & 0\\\\0 & 0 & 0\\\\0 & 0 & 0\\end{matrix}\\right] & \\left[\\begin{matrix}0 & 0 & 0\\\\0 & 0 & 0\\\\0 & 0 & 0\\end{matrix}\\right]\\end{matrix}\\right]$$"
      ],
      "text/plain": [
       "⎡⎡0  0  0⎤  ⎡0  0  0⎤  ⎡0  0  0⎤⎤\n",
       "⎢⎢       ⎥  ⎢       ⎥  ⎢       ⎥⎥\n",
       "⎢⎢0  0  0⎥  ⎢0  0  0⎥  ⎢0  0  0⎥⎥\n",
       "⎢⎢       ⎥  ⎢       ⎥  ⎢       ⎥⎥\n",
       "⎢⎣0  0  0⎦  ⎣0  0  0⎦  ⎣0  0  0⎦⎥\n",
       "⎢                               ⎥\n",
       "⎢⎡0  0  0⎤  ⎡0  0  0⎤  ⎡0  0  0⎤⎥\n",
       "⎢⎢       ⎥  ⎢       ⎥  ⎢       ⎥⎥\n",
       "⎢⎢0  0  0⎥  ⎢0  0  0⎥  ⎢0  0  0⎥⎥\n",
       "⎢⎢       ⎥  ⎢       ⎥  ⎢       ⎥⎥\n",
       "⎢⎣0  0  0⎦  ⎣0  0  0⎦  ⎣0  0  0⎦⎥\n",
       "⎢                               ⎥\n",
       "⎢⎡0  0  0⎤  ⎡0  0  0⎤  ⎡0  0  0⎤⎥\n",
       "⎢⎢       ⎥  ⎢       ⎥  ⎢       ⎥⎥\n",
       "⎢⎢0  0  0⎥  ⎢0  0  0⎥  ⎢0  0  0⎥⎥\n",
       "⎢⎢       ⎥  ⎢       ⎥  ⎢       ⎥⎥\n",
       "⎣⎣0  0  0⎦  ⎣0  0  0⎦  ⎣0  0  0⎦⎦"
      ]
     },
     "execution_count": 5,
     "metadata": {},
     "output_type": "execute_result"
    }
   ],
   "source": [
    "# Calculating Riemann Tensor from Christoffel Symbols\n",
    "rm1 = RiemannCurvatureTensor.from_christoffels(ch)\n",
    "rm1.tensor()"
   ]
  },
  {
   "cell_type": "code",
   "execution_count": 6,
   "metadata": {},
   "outputs": [
    {
     "data": {
      "text/latex": [
       "$$\\left[\\begin{matrix}\\left[\\begin{matrix}0 & 0 & 0\\\\0 & 0 & 0\\\\0 & 0 & 0\\end{matrix}\\right] & \\left[\\begin{matrix}0 & 0 & 0\\\\0 & 0 & 0\\\\0 & 0 & 0\\end{matrix}\\right] & \\left[\\begin{matrix}0 & 0 & 0\\\\0 & 0 & 0\\\\0 & 0 & 0\\end{matrix}\\right]\\\\\\left[\\begin{matrix}0 & 0 & 0\\\\0 & 0 & 0\\\\0 & 0 & 0\\end{matrix}\\right] & \\left[\\begin{matrix}0 & 0 & 0\\\\0 & 0 & 0\\\\0 & 0 & 0\\end{matrix}\\right] & \\left[\\begin{matrix}0 & 0 & 0\\\\0 & 0 & 0\\\\0 & 0 & 0\\end{matrix}\\right]\\\\\\left[\\begin{matrix}0 & 0 & 0\\\\0 & 0 & 0\\\\0 & 0 & 0\\end{matrix}\\right] & \\left[\\begin{matrix}0 & 0 & 0\\\\0 & 0 & 0\\\\0 & 0 & 0\\end{matrix}\\right] & \\left[\\begin{matrix}0 & 0 & 0\\\\0 & 0 & 0\\\\0 & 0 & 0\\end{matrix}\\right]\\end{matrix}\\right]$$"
      ],
      "text/plain": [
       "⎡⎡0  0  0⎤  ⎡0  0  0⎤  ⎡0  0  0⎤⎤\n",
       "⎢⎢       ⎥  ⎢       ⎥  ⎢       ⎥⎥\n",
       "⎢⎢0  0  0⎥  ⎢0  0  0⎥  ⎢0  0  0⎥⎥\n",
       "⎢⎢       ⎥  ⎢       ⎥  ⎢       ⎥⎥\n",
       "⎢⎣0  0  0⎦  ⎣0  0  0⎦  ⎣0  0  0⎦⎥\n",
       "⎢                               ⎥\n",
       "⎢⎡0  0  0⎤  ⎡0  0  0⎤  ⎡0  0  0⎤⎥\n",
       "⎢⎢       ⎥  ⎢       ⎥  ⎢       ⎥⎥\n",
       "⎢⎢0  0  0⎥  ⎢0  0  0⎥  ⎢0  0  0⎥⎥\n",
       "⎢⎢       ⎥  ⎢       ⎥  ⎢       ⎥⎥\n",
       "⎢⎣0  0  0⎦  ⎣0  0  0⎦  ⎣0  0  0⎦⎥\n",
       "⎢                               ⎥\n",
       "⎢⎡0  0  0⎤  ⎡0  0  0⎤  ⎡0  0  0⎤⎥\n",
       "⎢⎢       ⎥  ⎢       ⎥  ⎢       ⎥⎥\n",
       "⎢⎢0  0  0⎥  ⎢0  0  0⎥  ⎢0  0  0⎥⎥\n",
       "⎢⎢       ⎥  ⎢       ⎥  ⎢       ⎥⎥\n",
       "⎣⎣0  0  0⎦  ⎣0  0  0⎦  ⎣0  0  0⎦⎦"
      ]
     },
     "execution_count": 6,
     "metadata": {},
     "output_type": "execute_result"
    }
   ],
   "source": [
    "# Calculating Riemann Tensor from Metric Tensor\n",
    "rm2 = RiemannCurvatureTensor.from_metric(m_obj)\n",
    "rm2.tensor()"
   ]
  },
  {
   "cell_type": "markdown",
   "metadata": {},
   "source": [
    "### Calculating the christoffel symbols for Schwarzschild Spacetime Metric\n",
    "  - The expressions are unsimplified"
   ]
  },
  {
   "cell_type": "code",
   "execution_count": 7,
   "metadata": {},
   "outputs": [
    {
     "data": {
      "text/latex": [
       "$$\\left[\\begin{matrix}- \\frac{a}{r} + 1 & 0 & 0 & 0\\\\0 & - \\frac{1}{c^{2} \\left(- \\frac{a}{r} + 1\\right)} & 0 & 0\\\\0 & 0 & - \\frac{r^{2}}{c^{2}} & 0\\\\0 & 0 & 0 & - \\frac{r^{2} \\sin^{2}{\\left (\\theta \\right )}}{c^{2}}\\end{matrix}\\right]$$"
      ],
      "text/plain": [
       "⎡  a                                      ⎤\n",
       "⎢- ─ + 1       0         0         0      ⎥\n",
       "⎢  r                                      ⎥\n",
       "⎢                                         ⎥\n",
       "⎢             -1                          ⎥\n",
       "⎢   0     ────────────   0         0      ⎥\n",
       "⎢          2 ⎛  a    ⎞                    ⎥\n",
       "⎢         c ⋅⎜- ─ + 1⎟                    ⎥\n",
       "⎢            ⎝  r    ⎠                    ⎥\n",
       "⎢                                         ⎥\n",
       "⎢                         2               ⎥\n",
       "⎢                       -r                ⎥\n",
       "⎢   0          0        ────       0      ⎥\n",
       "⎢                         2               ⎥\n",
       "⎢                        c                ⎥\n",
       "⎢                                         ⎥\n",
       "⎢                               2    2    ⎥\n",
       "⎢                             -r ⋅sin (θ) ⎥\n",
       "⎢   0          0         0    ────────────⎥\n",
       "⎢                                   2     ⎥\n",
       "⎣                                  c      ⎦"
      ]
     },
     "execution_count": 7,
     "metadata": {},
     "output_type": "execute_result"
    }
   ],
   "source": [
    "syms = sympy.symbols(\"t r theta phi\")\n",
    "G, M, c, a = sympy.symbols(\"G M c a\")\n",
    "# using metric values of schwarschild space-time\n",
    "# a is schwarzschild radius\n",
    "list2d = [[0 for i in range(4)] for i in range(4)]\n",
    "list2d[0][0] = 1 - (a / syms[1])\n",
    "list2d[1][1] = -1 / ((1 - (a / syms[1])) * (c ** 2))\n",
    "list2d[2][2] = -1 * (syms[1] ** 2) / (c ** 2)\n",
    "list2d[3][3] = -1 * (syms[1] ** 2) * (sympy.sin(syms[2]) ** 2) / (c ** 2)\n",
    "sch = MetricTensor(list2d, syms)\n",
    "sch.tensor()"
   ]
  },
  {
   "cell_type": "code",
   "execution_count": 8,
   "metadata": {},
   "outputs": [
    {
     "data": {
      "text/latex": [
       "$$\\left[\\begin{matrix}\\left[\\begin{matrix}0 & \\frac{a}{2 r^{2} \\left(- \\frac{a}{r} + 1\\right)} & 0 & 0\\\\\\frac{a}{2 r^{2} \\left(- \\frac{a}{r} + 1\\right)} & 0 & 0 & 0\\\\0 & 0 & 0 & 0\\\\0 & 0 & 0 & 0\\end{matrix}\\right] & \\left[\\begin{matrix}\\frac{a c^{2} \\left(- \\frac{a}{r} + 1\\right)}{2 r^{2}} & 0 & 0 & 0\\\\0 & - \\frac{a}{2 r^{2} \\left(- \\frac{a}{r} + 1\\right)} & 0 & 0\\\\0 & 0 & - r \\left(- \\frac{a}{r} + 1\\right) & 0\\\\0 & 0 & 0 & - r \\left(- \\frac{a}{r} + 1\\right) \\sin^{2}{\\left (\\theta \\right )}\\end{matrix}\\right] & \\left[\\begin{matrix}0 & 0 & 0 & 0\\\\0 & 0 & \\frac{1}{r} & 0\\\\0 & \\frac{1}{r} & 0 & 0\\\\0 & 0 & 0 & - \\sin{\\left (\\theta \\right )} \\cos{\\left (\\theta \\right )}\\end{matrix}\\right] & \\left[\\begin{matrix}0 & 0 & 0 & 0\\\\0 & 0 & 0 & \\frac{1}{r}\\\\0 & 0 & 0 & \\frac{\\cos{\\left (\\theta \\right )}}{\\sin{\\left (\\theta \\right )}}\\\\0 & \\frac{1}{r} & \\frac{\\cos{\\left (\\theta \\right )}}{\\sin{\\left (\\theta \\right )}} & 0\\end{matrix}\\right]\\end{matrix}\\right]$$"
      ],
      "text/plain": [
       "⎡                                        ⎡   2 ⎛  a    ⎞                      \n",
       "⎢                                        ⎢a⋅c ⋅⎜- ─ + 1⎟                      \n",
       "⎢                                        ⎢     ⎝  r    ⎠                      \n",
       "⎢⎡                      a             ⎤  ⎢──────────────        0             \n",
       "⎢⎢      0         ──────────────  0  0⎥  ⎢        2                           \n",
       "⎢⎢                   2 ⎛  a    ⎞      ⎥  ⎢     2⋅r                            \n",
       "⎢⎢                2⋅r ⋅⎜- ─ + 1⎟      ⎥  ⎢                                    \n",
       "⎢⎢                     ⎝  r    ⎠      ⎥  ⎢                     -a             \n",
       "⎢⎢                                    ⎥  ⎢      0         ──────────────      \n",
       "⎢⎢      a                             ⎥  ⎢                   2 ⎛  a    ⎞      \n",
       "⎢⎢──────────────        0         0  0⎥  ⎢                2⋅r ⋅⎜- ─ + 1⎟      \n",
       "⎢⎢   2 ⎛  a    ⎞                      ⎥  ⎢                     ⎝  r    ⎠      \n",
       "⎢⎢2⋅r ⋅⎜- ─ + 1⎟                      ⎥  ⎢                                    \n",
       "⎢⎢     ⎝  r    ⎠                      ⎥  ⎢                                   ⎛\n",
       "⎢⎢                                    ⎥  ⎢      0               0         -r⋅⎜\n",
       "⎢⎢      0               0         0  0⎥  ⎢                                   ⎝\n",
       "⎢⎢                                    ⎥  ⎢                                    \n",
       "⎢⎣      0               0         0  0⎦  ⎢                                    \n",
       "⎢                                        ⎢      0               0             \n",
       "⎣                                        ⎣                                    \n",
       "\n",
       "                              ⎤                                               \n",
       "                              ⎥                                               \n",
       "                              ⎥                                               \n",
       " 0                 0          ⎥                                               \n",
       "                              ⎥                             ⎡0  0    0       0\n",
       "                              ⎥  ⎡0  0  0        0       ⎤  ⎢                 \n",
       "                              ⎥  ⎢                       ⎥  ⎢                1\n",
       "                              ⎥  ⎢      1                ⎥  ⎢0  0    0       ─\n",
       " 0                 0          ⎥  ⎢0  0  ─        0       ⎥  ⎢                r\n",
       "                              ⎥  ⎢      r                ⎥  ⎢                 \n",
       "                              ⎥  ⎢                       ⎥  ⎢              cos\n",
       "                              ⎥  ⎢   1                   ⎥  ⎢0  0    0     ───\n",
       "                              ⎥  ⎢0  ─  0        0       ⎥  ⎢              sin\n",
       "  a    ⎞                      ⎥  ⎢   r                   ⎥  ⎢                 \n",
       "- ─ + 1⎟           0          ⎥  ⎢                       ⎥  ⎢   1  cos(θ)     \n",
       "  r    ⎠                      ⎥  ⎣0  0  0  -sin(θ)⋅cos(θ)⎦  ⎢0  ─  ──────    0\n",
       "                              ⎥                             ⎣   r  sin(θ)     \n",
       "             ⎛  a    ⎞    2   ⎥                                               \n",
       " 0        -r⋅⎜- ─ + 1⎟⋅sin (θ)⎥                                               \n",
       "             ⎝  r    ⎠        ⎦                                               \n",
       "\n",
       "    ⎤\n",
       "    ⎥\n",
       "    ⎥\n",
       "    ⎥\n",
       "   ⎤⎥\n",
       "   ⎥⎥\n",
       "   ⎥⎥\n",
       "   ⎥⎥\n",
       "   ⎥⎥\n",
       "   ⎥⎥\n",
       "(θ)⎥⎥\n",
       "───⎥⎥\n",
       "(θ)⎥⎥\n",
       "   ⎥⎥\n",
       "   ⎥⎥\n",
       "   ⎥⎥\n",
       "   ⎦⎥\n",
       "    ⎥\n",
       "    ⎥\n",
       "    ⎦"
      ]
     },
     "execution_count": 8,
     "metadata": {},
     "output_type": "execute_result"
    }
   ],
   "source": [
    "sch_ch = ChristoffelSymbols.from_metric(sch)\n",
    "sch_ch.tensor()"
   ]
  },
  {
   "cell_type": "markdown",
   "metadata": {},
   "source": [
    "### Calculating the simplified expressions"
   ]
  },
  {
   "cell_type": "code",
   "execution_count": 9,
   "metadata": {
    "scrolled": false
   },
   "outputs": [
    {
     "data": {
      "text/latex": [
       "$$\\left[\\begin{matrix}\\left[\\begin{matrix}0 & \\frac{a}{2 r \\left(- a + r\\right)} & 0 & 0\\\\\\frac{a}{2 r \\left(- a + r\\right)} & 0 & 0 & 0\\\\0 & 0 & 0 & 0\\\\0 & 0 & 0 & 0\\end{matrix}\\right] & \\left[\\begin{matrix}\\frac{a c^{2} \\left(- a + r\\right)}{2 r^{3}} & 0 & 0 & 0\\\\0 & \\frac{a}{2 r \\left(a - r\\right)} & 0 & 0\\\\0 & 0 & a - r & 0\\\\0 & 0 & 0 & \\left(a - r\\right) \\sin^{2}{\\left (\\theta \\right )}\\end{matrix}\\right] & \\left[\\begin{matrix}0 & 0 & 0 & 0\\\\0 & 0 & \\frac{1}{r} & 0\\\\0 & \\frac{1}{r} & 0 & 0\\\\0 & 0 & 0 & - \\frac{\\sin{\\left (2 \\theta \\right )}}{2}\\end{matrix}\\right] & \\left[\\begin{matrix}0 & 0 & 0 & 0\\\\0 & 0 & 0 & \\frac{1}{r}\\\\0 & 0 & 0 & \\frac{1}{\\tan{\\left (\\theta \\right )}}\\\\0 & \\frac{1}{r} & \\frac{1}{\\tan{\\left (\\theta \\right )}} & 0\\end{matrix}\\right]\\end{matrix}\\right]$$"
      ],
      "text/plain": [
       "⎡                                    ⎡   2                                    \n",
       "⎢                                    ⎢a⋅c ⋅(-a + r)                           \n",
       "⎢⎡                   a            ⎤  ⎢─────────────       0         0         \n",
       "⎢⎢     0        ────────────  0  0⎥  ⎢        3                               \n",
       "⎢⎢              2⋅r⋅(-a + r)      ⎥  ⎢     2⋅r                                \n",
       "⎢⎢                                ⎥  ⎢                                        \n",
       "⎢⎢     a                          ⎥  ⎢                    a                   \n",
       "⎢⎢────────────       0        0  0⎥  ⎢      0        ───────────    0         \n",
       "⎢⎢2⋅r⋅(-a + r)                    ⎥  ⎢               2⋅r⋅(a - r)              \n",
       "⎢⎢                                ⎥  ⎢                                        \n",
       "⎢⎢     0             0        0  0⎥  ⎢      0             0       a - r       \n",
       "⎢⎢                                ⎥  ⎢                                        \n",
       "⎢⎣     0             0        0  0⎦  ⎢                                        \n",
       "⎣                                    ⎣      0             0         0    (a - \n",
       "\n",
       "          ⎤                                               ⎤\n",
       "          ⎥  ⎡0  0  0      0     ⎤  ⎡0  0    0       0   ⎤⎥\n",
       "  0       ⎥  ⎢                   ⎥  ⎢                    ⎥⎥\n",
       "          ⎥  ⎢      1            ⎥  ⎢                1   ⎥⎥\n",
       "          ⎥  ⎢0  0  ─      0     ⎥  ⎢0  0    0       ─   ⎥⎥\n",
       "          ⎥  ⎢      r            ⎥  ⎢                r   ⎥⎥\n",
       "          ⎥  ⎢                   ⎥  ⎢                    ⎥⎥\n",
       "  0       ⎥  ⎢   1               ⎥  ⎢                1   ⎥⎥\n",
       "          ⎥  ⎢0  ─  0      0     ⎥  ⎢0  0    0     ──────⎥⎥\n",
       "          ⎥  ⎢   r               ⎥  ⎢              tan(θ)⎥⎥\n",
       "  0       ⎥  ⎢                   ⎥  ⎢                    ⎥⎥\n",
       "          ⎥  ⎢         -sin(2⋅θ) ⎥  ⎢   1    1           ⎥⎥\n",
       "      2   ⎥  ⎢0  0  0  ──────────⎥  ⎢0  ─  ──────    0   ⎥⎥\n",
       "r)⋅sin (θ)⎦  ⎣             2     ⎦  ⎣   r  tan(θ)        ⎦⎦"
      ]
     },
     "execution_count": 9,
     "metadata": {},
     "output_type": "execute_result"
    }
   ],
   "source": [
    "simplified = sch_ch.simplify()\n",
    "simplified"
   ]
  }
 ],
 "metadata": {
  "kernelspec": {
   "display_name": "Python 3",
   "language": "python",
   "name": "python3"
  },
  "language_info": {
   "codemirror_mode": {
    "name": "ipython",
    "version": 3
   },
   "file_extension": ".py",
   "mimetype": "text/x-python",
   "name": "python",
   "nbconvert_exporter": "python",
   "pygments_lexer": "ipython3",
   "version": "3.6.8"
  }
 },
 "nbformat": 4,
 "nbformat_minor": 2
}
